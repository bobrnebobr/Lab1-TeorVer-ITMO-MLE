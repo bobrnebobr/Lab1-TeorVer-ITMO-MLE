{
 "cells": [
  {
   "cell_type": "code",
   "id": "initial_id",
   "metadata": {
    "collapsed": true,
    "ExecuteTime": {
     "end_time": "2025-10-05T14:02:11.577814Z",
     "start_time": "2025-10-05T14:02:11.528860Z"
    }
   },
   "source": [
    "import numpy as np\n",
    "from tqdm.notebook import trange, tqdm"
   ],
   "outputs": [],
   "execution_count": 4
  },
  {
   "metadata": {
    "ExecuteTime": {
     "end_time": "2025-10-05T14:02:54.531908Z",
     "start_time": "2025-10-05T14:02:54.528617Z"
    }
   },
   "cell_type": "code",
   "source": [
    "def calculate_probability(n: int, m: int, num_samples: int = 1_000) -> float:\n",
    "    good_results = 0\n",
    "\n",
    "    for _ in trange(num_samples):\n",
    "        data = np.arange(n)\n",
    "        np.random.shuffle(data)\n",
    "\n",
    "        mails_on_right_places = 0\n",
    "\n",
    "        for i, item in enumerate(data):\n",
    "            if i == item:\n",
    "                mails_on_right_places += 1\n",
    "\n",
    "        if mails_on_right_places == m:\n",
    "            good_results += 1\n",
    "\n",
    "    return good_results / num_samples"
   ],
   "id": "34a668a33f1ea96d",
   "outputs": [],
   "execution_count": 7
  },
  {
   "metadata": {
    "ExecuteTime": {
     "end_time": "2025-10-05T14:10:30.672507Z",
     "start_time": "2025-10-05T14:10:30.430633Z"
    }
   },
   "cell_type": "code",
   "source": "calculate_probability(3, 3, 100000)",
   "id": "ee3c91c2fc8006df",
   "outputs": [
    {
     "data": {
      "text/plain": [
       "  0%|          | 0/100000 [00:00<?, ?it/s]"
      ],
      "application/vnd.jupyter.widget-view+json": {
       "version_major": 2,
       "version_minor": 0,
       "model_id": "0c35cdb8df1642a08931e9faab61d251"
      }
     },
     "metadata": {},
     "output_type": "display_data"
    },
    {
     "data": {
      "text/plain": [
       "0.16664"
      ]
     },
     "execution_count": 20,
     "metadata": {},
     "output_type": "execute_result"
    }
   ],
   "execution_count": 20
  },
  {
   "metadata": {},
   "cell_type": "code",
   "outputs": [],
   "execution_count": null,
   "source": "",
   "id": "d668d808531b246d"
  }
 ],
 "metadata": {
  "kernelspec": {
   "display_name": "Python 3",
   "language": "python",
   "name": "python3"
  },
  "language_info": {
   "codemirror_mode": {
    "name": "ipython",
    "version": 2
   },
   "file_extension": ".py",
   "mimetype": "text/x-python",
   "name": "python",
   "nbconvert_exporter": "python",
   "pygments_lexer": "ipython2",
   "version": "2.7.6"
  }
 },
 "nbformat": 4,
 "nbformat_minor": 5
}
