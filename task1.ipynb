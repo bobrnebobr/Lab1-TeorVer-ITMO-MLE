{
 "cells": [
  {
   "metadata": {},
   "cell_type": "markdown",
   "source": [
    "# Задача 1\n",
    "\n",
    "Пусть $n$ писем случайно раскладываются по $n$ конвертам. Найти вероятность, что **ровно $m$ писем попадут в свои конверты**.\n",
    "Как эту вероятность можно приближённо посчитать при фиксированном $m$ и достаточно большом $n$?\n",
    "\n",
    "## 1. Полное несоответствие\n",
    "\n",
    "Полное несоответствие — это перестановка множества, в которой ни один элемент не остаётся на своём месте.\n",
    "\n",
    "Обозначим через $!k$(субфакториал) количество полных несоответствий для $k$ элементов.\n",
    "\n",
    "Пример для $n=3$:\n",
    "Элементы: $[1,2,3]$\n",
    "Все перестановки: $[1,2,3], [1,3,2], [2,1,3], [2,3,1], [3,1,2], [3,2,1]$\n",
    "Полные несоответствия ($!3$): $[2,3,1], [3,1,2]$ — ни один элемент не на своём месте.\n",
    "\n",
    "Субфакториал для $n$ элементов вычисляется через метод включений и исключений:\n",
    "\n",
    "$$\n",
    "\\begin{aligned}\n",
    "!n &= n! - \\binom{n}{1}(n-1)! + \\binom{n}{2}(n-2)! - \\binom{n}{3}(n-3)! + \\dots + (-1)^n \\binom{n}{n}0! \\\\\n",
    "&= n! \\sum_{k=0}^{n} \\frac{(-1)^k}{k!}\n",
    "\\end{aligned}\n",
    "$$\n",
    "\n",
    "## 2. Вероятность того, что ровно $m$ писем попадут в свои конверты\n",
    "\n",
    "1. Выбираем $m$ писем, которые окажутся на своих местах: $\\binom{n}{m}$\n",
    "2. Для оставшихся $n-m$ писем необходимо, чтобы ни одно не оказалось на своём месте, то есть полное несоответсвие на $n-m$: $!(n-m)$\n",
    "\n",
    "Следовательно, общее количество удачных размещений:\n",
    "\n",
    "$$\n",
    "\\binom{n}{m} \\cdot !(n-m)\n",
    "$$\n",
    "\n",
    "Общее количество всех возможных перестановок писем равно $n!$, поэтому вероятность события:\n",
    "\n",
    "$$\n",
    "P_n(m) = \\frac{\\binom{n}{m} \\ !(n-m)}{n!}\n",
    "$$\n",
    "\n",
    "## 3. Приближение для больших $n$\n",
    "\n",
    "Для достаточно большого $n$ выполняется приближение:\n",
    "\n",
    "$$\n",
    "\\frac{!(n-m)}{(n-m)!} \\approx \\frac{1}{e}\n",
    "$$\n",
    "\n",
    "Тогда вероятность того, что ровно $m$ писем попадут в свои конверты:\n",
    "\n",
    "$$\n",
    "P_n(m) \\approx \\frac{\\binom{n}{m} (n-m)! / e}{n!} = \\frac{1}{m! \\, e}\n",
    "$$"
   ],
   "id": "af427e5a83ff51cd"
  },
  {
   "cell_type": "code",
   "id": "initial_id",
   "metadata": {
    "collapsed": true,
    "ExecuteTime": {
     "end_time": "2025-10-23T19:26:58.696866Z",
     "start_time": "2025-10-23T19:26:58.516765Z"
    }
   },
   "source": [
    "import numpy as np\n",
    "from tqdm.notebook import trange"
   ],
   "outputs": [],
   "execution_count": 8
  },
  {
   "metadata": {
    "ExecuteTime": {
     "end_time": "2025-10-23T19:25:35.303823Z",
     "start_time": "2025-10-23T19:25:35.302114Z"
    }
   },
   "cell_type": "code",
   "source": [
    "def calculate_probability(n: int, m: int, num_samples: int = 1_000) -> float:\n",
    "    good_results = 0\n",
    "\n",
    "    for _ in trange(num_samples):\n",
    "        data = np.arange(n)\n",
    "        np.random.shuffle(data)\n",
    "\n",
    "        mails_on_right_places = 0\n",
    "\n",
    "        for i, item in enumerate(data):\n",
    "            if i == item:\n",
    "                mails_on_right_places += 1\n",
    "\n",
    "        if mails_on_right_places == m:\n",
    "            good_results += 1\n",
    "\n",
    "    return good_results / num_samples"
   ],
   "id": "34a668a33f1ea96d",
   "outputs": [],
   "execution_count": 2
  },
  {
   "metadata": {
    "ExecuteTime": {
     "end_time": "2025-10-23T19:26:50.927198Z",
     "start_time": "2025-10-23T19:25:59.583014Z"
    }
   },
   "cell_type": "code",
   "source": "calculate_probability(10000, 3, 100000)",
   "id": "ee3c91c2fc8006df",
   "outputs": [
    {
     "data": {
      "text/plain": [
       "  0%|          | 0/100000 [00:00<?, ?it/s]"
      ],
      "application/vnd.jupyter.widget-view+json": {
       "version_major": 2,
       "version_minor": 0,
       "model_id": "96f198955bf345e486a4c6fd914803c9"
      }
     },
     "metadata": {},
     "output_type": "display_data"
    },
    {
     "data": {
      "text/plain": [
       "0.06111"
      ]
     },
     "execution_count": 6,
     "metadata": {},
     "output_type": "execute_result"
    }
   ],
   "execution_count": 6
  },
  {
   "metadata": {},
   "cell_type": "code",
   "outputs": [],
   "execution_count": null,
   "source": "",
   "id": "e603dad5f555ef54"
  }
 ],
 "metadata": {
  "kernelspec": {
   "display_name": "Python 3",
   "language": "python",
   "name": "python3"
  },
  "language_info": {
   "codemirror_mode": {
    "name": "ipython",
    "version": 2
   },
   "file_extension": ".py",
   "mimetype": "text/x-python",
   "name": "python",
   "nbconvert_exporter": "python",
   "pygments_lexer": "ipython2",
   "version": "2.7.6"
  }
 },
 "nbformat": 4,
 "nbformat_minor": 5
}
