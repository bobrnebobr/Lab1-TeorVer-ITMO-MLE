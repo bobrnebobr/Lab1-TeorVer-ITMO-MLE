{
 "cells": [
  {
   "cell_type": "code",
   "id": "initial_id",
   "metadata": {
    "collapsed": true,
    "ExecuteTime": {
     "end_time": "2025-10-05T15:10:40.510523Z",
     "start_time": "2025-10-05T15:10:40.454900Z"
    }
   },
   "source": [
    "import numpy as np\n",
    "from tqdm.notebook import trange"
   ],
   "outputs": [],
   "execution_count": 1
  },
  {
   "metadata": {
    "ExecuteTime": {
     "end_time": "2025-10-05T15:14:21.965888Z",
     "start_time": "2025-10-05T15:14:21.959893Z"
    }
   },
   "cell_type": "code",
   "source": [
    "def calculate_probability(n_samples: int = 1_000_000) -> dict:\n",
    "    acute = 0\n",
    "    right = 0\n",
    "    obtuse = 0\n",
    "\n",
    "    for _ in trange(n_samples):\n",
    "        angles = np.random.random(size=3) * 2 * np.pi\n",
    "        angles.sort()\n",
    "\n",
    "        points = np.column_stack((np.cos(angles), np.sin(angles)))\n",
    "\n",
    "        a = np.linalg.norm(points[1] - points[2])\n",
    "        b = np.linalg.norm(points[0] - points[2])\n",
    "        c = np.linalg.norm(points[0] - points[1])\n",
    "\n",
    "        sides = np.array([a, b, c])\n",
    "        sides.sort()\n",
    "        a, b, c = sides\n",
    "        a2, b2, c2 = a*a, b*b, c*c\n",
    "\n",
    "        if np.isclose(c2, a2 + b2, atol=1e-6):\n",
    "            right += 1\n",
    "        elif c2 < a2 + b2:\n",
    "            acute += 1\n",
    "        else:\n",
    "            obtuse += 1\n",
    "\n",
    "    return {\n",
    "        \"acute\": acute / n_samples,\n",
    "        \"right\": right / n_samples,\n",
    "        \"obtuse\": obtuse / n_samples,\n",
    "    }"
   ],
   "id": "8d58a6e1acb46f66",
   "outputs": [],
   "execution_count": 4
  },
  {
   "metadata": {
    "ExecuteTime": {
     "end_time": "2025-10-05T15:14:55.190115Z",
     "start_time": "2025-10-05T15:14:26.273992Z"
    }
   },
   "cell_type": "code",
   "source": "calculate_probability()",
   "id": "6d8716a423ea7fe1",
   "outputs": [
    {
     "data": {
      "text/plain": [
       "  0%|          | 0/1000000 [00:00<?, ?it/s]"
      ],
      "application/vnd.jupyter.widget-view+json": {
       "version_major": 2,
       "version_minor": 0,
       "model_id": "41bf75af378f442fb61c7da078aad93c"
      }
     },
     "metadata": {},
     "output_type": "display_data"
    },
    {
     "data": {
      "text/plain": [
       "{'acute': 0.250076, 'right': 0.000135, 'obtuse': 0.749789}"
      ]
     },
     "execution_count": 5,
     "metadata": {},
     "output_type": "execute_result"
    }
   ],
   "execution_count": 5
  },
  {
   "metadata": {},
   "cell_type": "code",
   "outputs": [],
   "execution_count": null,
   "source": "",
   "id": "cd3c3393fdbe76b5"
  }
 ],
 "metadata": {
  "kernelspec": {
   "display_name": "Python 3",
   "language": "python",
   "name": "python3"
  },
  "language_info": {
   "codemirror_mode": {
    "name": "ipython",
    "version": 2
   },
   "file_extension": ".py",
   "mimetype": "text/x-python",
   "name": "python",
   "nbconvert_exporter": "python",
   "pygments_lexer": "ipython2",
   "version": "2.7.6"
  }
 },
 "nbformat": 4,
 "nbformat_minor": 5
}
