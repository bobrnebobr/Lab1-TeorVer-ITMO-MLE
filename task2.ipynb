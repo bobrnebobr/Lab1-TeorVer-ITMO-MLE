{
 "cells": [
  {
   "metadata": {},
   "cell_type": "markdown",
   "source": [
    "# Задача 2\n",
    "\n",
    "На окружности случайно ставятся три точки $A$, $B$, $C$. С какой вероятностью треугольник\n",
    "$ABC$ будет остроугольным? Тупоугольным? А прямоугольным?\n",
    "\n",
    "## 1. Упрощение задачи\n",
    "\n",
    "За счёт симметрии окружности можно зафиксировать точку $A$ в положении $0$.\n",
    "Тогда:\n",
    "\n",
    "- Точка $B$ равномерно распределена по окружности, но из-за симметрии можно рассмотреть только половину окружности, например $[0, \\pi/2]$, а остальные случаи будут симметричными.\n",
    "- Точка $C$ равномерно распределена по всей окружности.\n",
    "\n",
    "Таким образом, мы можем рассматривать случайные точки с учётом симметрий и уменьшить область анализа.\n",
    "\n",
    "## 2. Геометрические рассуждения\n",
    "\n",
    "1. Через точки \\(A\\) и \\(B\\) проведём диаметры, проходящие через центр окружности.\n",
    "2. Эти два диаметра делят окружность на 4 дуги (области).\n",
    "3. Каждая область соответствует возможному положению точки $C$, определяющему тип треугольника.\n",
    "\n",
    "То есть для фиксированных $A$ и $B$:\n",
    "\n",
    "- В 3 из 4 областей точка $C$ образует тупой треугольник\n",
    "- В 1 из 4 областей точка $C$ образует остроугольный треугольник\n",
    "\n",
    "> Прямоугольный треугольник невозможен для непрерывного распределения точек на окружности (вероятность 0).\n",
    "\n",
    "## 3. Вероятность остроугольного треугольника через математическое ожидание\n",
    "\n",
    "Для фиксированных $A$ и $B$ вероятность того, что треугольник $ABC$ будет остроугольным, равна отношению длины дуги, на которой $C$ образует острый угол, к длине всей окружности:\n",
    "\n",
    "$$\n",
    "P(\\text{остроугольный} \\mid A,B) = \\frac{\\text{длина дуги для острого угла}}{2\\pi}\n",
    "$$\n",
    "\n",
    "Обозначим через $\\theta$ угловое расстояние между точками $A$ и $B$. Меньшая дуга между $A$ и $B$ имеет длину $\\theta$, и именно на этой дуге $C$ образует острый угол. Тогда:\n",
    "\n",
    "$$\n",
    "P(\\text{остроугольный} \\mid \\theta) = \\frac{\\theta}{2\\pi}\n",
    "$$\n",
    "\n",
    "Так как $B$ равномерно распределена по окружности, $\\theta \\sim \\text{Uniform}(0, \\pi)$. Тогда вероятность остроугольного треугольника для случайного $C$ — это математическое ожидание:\n",
    "\n",
    "$$\n",
    "P(\\text{остроугольный}) = \\mathbb{E}\\left[ \\frac{\\theta}{2\\pi} \\right]\n",
    "$$\n",
    "\n",
    "Из симметрии, $\\theta \\sim \\text{Uniform}(0, \\pi)$, и математическое ожидание равно:\n",
    "\n",
    "$$\n",
    "\\mathbb{E}[\\theta] = \\frac{0 + \\pi}{2} = \\frac{\\pi}{2}\n",
    "$$\n",
    "\n",
    "Следовательно:\n",
    "\n",
    "$$\n",
    "P(\\text{остроугольный}) = \\frac{\\pi/2}{2\\pi} = \\frac{1}{4}\n",
    "$$\n",
    "\n",
    "## 4. Вероятности остальных типов треугольника\n",
    "\n",
    "- Тупоугольный треугольник:\n",
    "\n",
    "$$\n",
    "P(\\text{тупоугольный}) = 1 - P(\\text{остроугольный}) = \\frac{3}{4}\n",
    "$$\n",
    "\n",
    "- Прямоугольный треугольник невозможен для непрерывного распределения точек на окружности:\n",
    "\n",
    "$$\n",
    "P(\\text{прямоугольный}) = 0\n",
    "$$\n",
    "\n",
    "\n"
   ],
   "id": "fd2638942d91d23e"
  },
  {
   "cell_type": "code",
   "id": "initial_id",
   "metadata": {
    "collapsed": true,
    "ExecuteTime": {
     "end_time": "2025-10-23T19:10:49.670428Z",
     "start_time": "2025-10-23T19:10:49.584823Z"
    }
   },
   "source": [
    "import numpy as np\n",
    "from tqdm.notebook import trange"
   ],
   "outputs": [],
   "execution_count": 1
  },
  {
   "metadata": {
    "ExecuteTime": {
     "end_time": "2025-10-23T19:11:28.470948Z",
     "start_time": "2025-10-23T19:11:28.466211Z"
    }
   },
   "cell_type": "code",
   "source": [
    "def calculate_probability(n_samples: int = 1_000_000) -> dict:\n",
    "    acute = 0\n",
    "    right = 0\n",
    "    obtuse = 0\n",
    "\n",
    "    for _ in trange(n_samples):\n",
    "        angles = np.random.random(size=3) * 2 * np.pi\n",
    "        angles.sort()\n",
    "\n",
    "        points = np.column_stack((np.cos(angles), np.sin(angles)))\n",
    "\n",
    "        a = np.linalg.norm(points[1] - points[2])\n",
    "        b = np.linalg.norm(points[0] - points[2])\n",
    "        c = np.linalg.norm(points[0] - points[1])\n",
    "\n",
    "        sides = np.array([a, b, c])\n",
    "        sides.sort()\n",
    "        a, b, c = sides\n",
    "        a2, b2, c2 = a*a, b*b, c*c\n",
    "\n",
    "        if c2 == a2+b2:\n",
    "            right += 1\n",
    "        elif c2 < a2 + b2:\n",
    "            acute += 1\n",
    "        else:\n",
    "            obtuse += 1\n",
    "\n",
    "    return {\n",
    "        \"acute\": acute / n_samples,\n",
    "        \"right\": right / n_samples,\n",
    "        \"obtuse\": obtuse / n_samples,\n",
    "    }"
   ],
   "id": "8d58a6e1acb46f66",
   "outputs": [],
   "execution_count": 4
  },
  {
   "metadata": {
    "ExecuteTime": {
     "end_time": "2025-10-23T19:11:37.422104Z",
     "start_time": "2025-10-23T19:11:30.674968Z"
    }
   },
   "cell_type": "code",
   "source": "calculate_probability()",
   "id": "6d8716a423ea7fe1",
   "outputs": [
    {
     "data": {
      "text/plain": [
       "  0%|          | 0/1000000 [00:00<?, ?it/s]"
      ],
      "application/vnd.jupyter.widget-view+json": {
       "version_major": 2,
       "version_minor": 0,
       "model_id": "84288bf6262c46ed8a4a754db9ace2c5"
      }
     },
     "metadata": {},
     "output_type": "display_data"
    },
    {
     "data": {
      "text/plain": [
       "{'acute': 0.250785, 'right': 0.0, 'obtuse': 0.749215}"
      ]
     },
     "execution_count": 5,
     "metadata": {},
     "output_type": "execute_result"
    }
   ],
   "execution_count": 5
  },
  {
   "metadata": {},
   "cell_type": "code",
   "outputs": [],
   "execution_count": null,
   "source": "",
   "id": "cd3c3393fdbe76b5"
  }
 ],
 "metadata": {
  "kernelspec": {
   "display_name": "Python 3",
   "language": "python",
   "name": "python3"
  },
  "language_info": {
   "codemirror_mode": {
    "name": "ipython",
    "version": 2
   },
   "file_extension": ".py",
   "mimetype": "text/x-python",
   "name": "python",
   "nbconvert_exporter": "python",
   "pygments_lexer": "ipython2",
   "version": "2.7.6"
  }
 },
 "nbformat": 4,
 "nbformat_minor": 5
}
