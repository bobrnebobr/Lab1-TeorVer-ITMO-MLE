{
 "cells": [
  {
   "metadata": {},
   "cell_type": "markdown",
   "source": [
    "# Задача 7\n",
    "## Анализ совместного распределения дискретных случайных величин X и Y"
   ],
   "id": "482a3d2ce630345f"
  },
  {
   "metadata": {},
   "cell_type": "markdown",
   "source": [
    "**Задачи:**\n",
    "\n",
    "1. Найти пропущенную вероятность\n",
    "2. Маргинальные распределения X и Y\n",
    "3. Распределение \\(U = g(X,Y)\\) для заданной функции\n",
    "4. Математическое ожидание, дисперсию, σ, моду, медиану, коэффициенты асимметрии и эксцесса\n",
    "5. Ковариацию и коэффициент корреляции\n",
    "6. Проверку независимости"
   ],
   "id": "dfbdcfabeceb7a82"
  },
  {
   "metadata": {
    "ExecuteTime": {
     "end_time": "2025-10-23T18:14:53.567984Z",
     "start_time": "2025-10-23T18:14:53.002942Z"
    }
   },
   "cell_type": "code",
   "source": [
    "import numpy as np\n",
    "import pandas as pd\n",
    "import matplotlib.pyplot as plt"
   ],
   "id": "d91a41c724b48552",
   "outputs": [],
   "execution_count": 17
  },
  {
   "metadata": {},
   "cell_type": "markdown",
   "source": [
    "## 1. Функция g(X,Y)\n",
    "\n",
    "Функция задана как:\n",
    "\n",
    "$$\n",
    "g(X,Y) = (-1)^{|X|+|Y|} - (-1)^{|X \\cdot Y|}\n",
    "$$"
   ],
   "id": "994913fa913999bd"
  },
  {
   "metadata": {
    "ExecuteTime": {
     "end_time": "2025-10-23T18:05:39.926661Z",
     "start_time": "2025-10-23T18:05:39.922999Z"
    }
   },
   "cell_type": "code",
   "source": [
    "def g(X, Y):\n",
    "    return (-1) ** (abs(X) + abs(Y)) - (-1) ** (abs(X * Y))"
   ],
   "id": "f61522fa3aa31fb9",
   "outputs": [],
   "execution_count": 4
  },
  {
   "metadata": {
    "ExecuteTime": {
     "end_time": "2025-10-23T18:06:37.463921Z",
     "start_time": "2025-10-23T18:06:37.453294Z"
    }
   },
   "cell_type": "code",
   "source": [
    "with open('data/10.txt', 'r') as f:\n",
    "    lines = f.readlines()\n",
    "\n",
    "X_values = np.array([int(x) for x in lines[0].split(\",\")])\n",
    "Y_values = np.array([int(y) for y in lines[1].split(\",\")])\n",
    "\n",
    "prob_list = []\n",
    "for line in lines[2:]:\n",
    "    prob_row = []\n",
    "    for x in line.split(\",\"):\n",
    "        if x.upper() == 'NULL':\n",
    "            prob_row.append(np.nan)\n",
    "        else:\n",
    "            prob_row.append(float(x))\n",
    "    prob_list.append(prob_row)\n",
    "\n",
    "prob_table = np.array(prob_list)\n",
    "prob_table\n"
   ],
   "id": "7a34ee246a2134bf",
   "outputs": [
    {
     "data": {
      "text/plain": [
       "array([[0.02, 0.07, 0.08,  nan, 0.03],\n",
       "       [0.11, 0.03, 0.02, 0.03, 0.06],\n",
       "       [0.01, 0.02, 0.04, 0.04, 0.08],\n",
       "       [0.02, 0.11, 0.06, 0.04, 0.1 ]])"
      ]
     },
     "execution_count": 8,
     "metadata": {},
     "output_type": "execute_result"
    }
   ],
   "execution_count": 8
  },
  {
   "metadata": {},
   "cell_type": "markdown",
   "source": [
    "## 3. Пропущенное значение вероятности\n",
    "\n",
    "Сумма всех вероятностей должна быть равна 1:\n",
    "\n",
    "$$\n",
    "\\sum_{i,j} P(X=x_i, Y=y_j) = 1\n",
    "$$\n",
    "\n",
    "Пропущенное значение $$p_{missing} = 1 - \\sum_{i,j,known} P(X=x_i, Y=y_j)$$"
   ],
   "id": "5faad10ee499b074"
  },
  {
   "metadata": {
    "ExecuteTime": {
     "end_time": "2025-10-23T18:08:00.722494Z",
     "start_time": "2025-10-23T18:08:00.716524Z"
    }
   },
   "cell_type": "code",
   "source": [
    "missing_sum = 1 - np.nansum(prob_table)\n",
    "prob_table[np.isnan(prob_table)] = missing_sum\n",
    "print(\"Пропущенная вероятность:\", missing_sum)"
   ],
   "id": "bde359d8772a0083",
   "outputs": [
    {
     "name": "stdout",
     "output_type": "stream",
     "text": [
      "Пропущенная вероятность: 0.030000000000000138\n"
     ]
    }
   ],
   "execution_count": 9
  },
  {
   "metadata": {
    "ExecuteTime": {
     "end_time": "2025-10-23T18:08:08.566995Z",
     "start_time": "2025-10-23T18:08:08.558415Z"
    }
   },
   "cell_type": "code",
   "source": "prob_table",
   "id": "99286abf1cd777f2",
   "outputs": [
    {
     "data": {
      "text/plain": [
       "array([[0.02, 0.07, 0.08, 0.03, 0.03],\n",
       "       [0.11, 0.03, 0.02, 0.03, 0.06],\n",
       "       [0.01, 0.02, 0.04, 0.04, 0.08],\n",
       "       [0.02, 0.11, 0.06, 0.04, 0.1 ]])"
      ]
     },
     "execution_count": 10,
     "metadata": {},
     "output_type": "execute_result"
    }
   ],
   "execution_count": 10
  },
  {
   "metadata": {},
   "cell_type": "markdown",
   "source": [
    "## 4. Маргинальные распределения\n",
    "\n",
    "Маргинальные распределения вычисляются как:\n",
    "\n",
    "$$\n",
    "P_X(x_i) = \\sum_j P(X=x_i, Y=y_j), \\quad\n",
    "P_Y(y_j) = \\sum_i P(X=x_i, Y=y_j)\n",
    "$$"
   ],
   "id": "9a105951407c7d5e"
  },
  {
   "metadata": {
    "ExecuteTime": {
     "end_time": "2025-10-23T18:10:11.653037Z",
     "start_time": "2025-10-23T18:10:11.643704Z"
    }
   },
   "cell_type": "code",
   "source": [
    "P_X = prob_table.sum(axis=1)\n",
    "P_Y = prob_table.sum(axis=0)\n",
    "\n",
    "P_X"
   ],
   "id": "393cfd0f0096ddc",
   "outputs": [
    {
     "data": {
      "text/plain": [
       "array([0.23, 0.25, 0.19, 0.33])"
      ]
     },
     "execution_count": 12,
     "metadata": {},
     "output_type": "execute_result"
    }
   ],
   "execution_count": 12
  },
  {
   "metadata": {
    "ExecuteTime": {
     "end_time": "2025-10-23T18:11:14.980965Z",
     "start_time": "2025-10-23T18:11:14.957349Z"
    }
   },
   "cell_type": "code",
   "source": [
    "joint_df = pd.DataFrame(prob_table, index=X_values, columns=Y_values)\n",
    "joint_df.index.name = 'X'\n",
    "joint_df.columns.name = 'Y'\n",
    "\n",
    "P_X_df = pd.DataFrame({'P_X': P_X}, index=X_values)\n",
    "P_Y_df = pd.DataFrame({'P_Y': P_Y}, index=Y_values)\n",
    "\n",
    "print(\"Маргинальное распределение X:\")\n",
    "display(P_X_df)\n",
    "\n",
    "print(\"Маргинальное распределение Y:\")\n",
    "display(P_Y_df)"
   ],
   "id": "4d851ca5303b4c07",
   "outputs": [
    {
     "name": "stdout",
     "output_type": "stream",
     "text": [
      "Маргинальное распределение X:\n"
     ]
    },
    {
     "data": {
      "text/plain": [
       "      P_X\n",
       "-5   0.23\n",
       "-4   0.25\n",
       " 13  0.19\n",
       " 17  0.33"
      ],
      "text/html": [
       "<div>\n",
       "<style scoped>\n",
       "    .dataframe tbody tr th:only-of-type {\n",
       "        vertical-align: middle;\n",
       "    }\n",
       "\n",
       "    .dataframe tbody tr th {\n",
       "        vertical-align: top;\n",
       "    }\n",
       "\n",
       "    .dataframe thead th {\n",
       "        text-align: right;\n",
       "    }\n",
       "</style>\n",
       "<table border=\"1\" class=\"dataframe\">\n",
       "  <thead>\n",
       "    <tr style=\"text-align: right;\">\n",
       "      <th></th>\n",
       "      <th>P_X</th>\n",
       "    </tr>\n",
       "  </thead>\n",
       "  <tbody>\n",
       "    <tr>\n",
       "      <th>-5</th>\n",
       "      <td>0.23</td>\n",
       "    </tr>\n",
       "    <tr>\n",
       "      <th>-4</th>\n",
       "      <td>0.25</td>\n",
       "    </tr>\n",
       "    <tr>\n",
       "      <th>13</th>\n",
       "      <td>0.19</td>\n",
       "    </tr>\n",
       "    <tr>\n",
       "      <th>17</th>\n",
       "      <td>0.33</td>\n",
       "    </tr>\n",
       "  </tbody>\n",
       "</table>\n",
       "</div>"
      ]
     },
     "metadata": {},
     "output_type": "display_data"
    },
    {
     "name": "stdout",
     "output_type": "stream",
     "text": [
      "Маргинальное распределение Y:\n"
     ]
    },
    {
     "data": {
      "text/plain": [
       "     P_Y\n",
       "-6  0.16\n",
       "-3  0.23\n",
       " 0  0.20\n",
       " 8  0.14\n",
       " 9  0.27"
      ],
      "text/html": [
       "<div>\n",
       "<style scoped>\n",
       "    .dataframe tbody tr th:only-of-type {\n",
       "        vertical-align: middle;\n",
       "    }\n",
       "\n",
       "    .dataframe tbody tr th {\n",
       "        vertical-align: top;\n",
       "    }\n",
       "\n",
       "    .dataframe thead th {\n",
       "        text-align: right;\n",
       "    }\n",
       "</style>\n",
       "<table border=\"1\" class=\"dataframe\">\n",
       "  <thead>\n",
       "    <tr style=\"text-align: right;\">\n",
       "      <th></th>\n",
       "      <th>P_Y</th>\n",
       "    </tr>\n",
       "  </thead>\n",
       "  <tbody>\n",
       "    <tr>\n",
       "      <th>-6</th>\n",
       "      <td>0.16</td>\n",
       "    </tr>\n",
       "    <tr>\n",
       "      <th>-3</th>\n",
       "      <td>0.23</td>\n",
       "    </tr>\n",
       "    <tr>\n",
       "      <th>0</th>\n",
       "      <td>0.20</td>\n",
       "    </tr>\n",
       "    <tr>\n",
       "      <th>8</th>\n",
       "      <td>0.14</td>\n",
       "    </tr>\n",
       "    <tr>\n",
       "      <th>9</th>\n",
       "      <td>0.27</td>\n",
       "    </tr>\n",
       "  </tbody>\n",
       "</table>\n",
       "</div>"
      ]
     },
     "metadata": {},
     "output_type": "display_data"
    }
   ],
   "execution_count": 15
  },
  {
   "metadata": {},
   "cell_type": "markdown",
   "source": [
    "## 5. Распределение случайной величины $U = g(X,Y)$\n",
    "\n",
    "Вероятность каждого значения U вычисляется суммированием вероятностей совместного распределения, где $g(X,Y)$ принимает одно и то же значение."
   ],
   "id": "598158c67f2cbb25"
  },
  {
   "metadata": {
    "ExecuteTime": {
     "end_time": "2025-10-23T18:15:50.759174Z",
     "start_time": "2025-10-23T18:15:50.699179Z"
    }
   },
   "cell_type": "code",
   "source": [
    "U_dict = {}\n",
    "for i, x in enumerate(X_values):\n",
    "    for j, y in enumerate(Y_values):\n",
    "        u_val = g(x, y)\n",
    "        U_dict[u_val] = U_dict.get(u_val, 0) + prob_table[i,j]\n",
    "\n",
    "U_df = pd.DataFrame(list(U_dict.items()), columns=['U', 'P(U)']).sort_values('U').reset_index(drop=True)\n",
    "display(U_df)\n",
    "\n",
    "plt.figure(figsize=(4,2))\n",
    "plt.bar(U_df['U'], U_df['P(U)'])\n",
    "plt.xlabel('Значение U')\n",
    "plt.ylabel('Вероятность P(U)')\n",
    "plt.title('Распределение случайной величины U = g(X,Y)')\n",
    "plt.show()"
   ],
   "id": "88219a5352fbbeed",
   "outputs": [
    {
     "data": {
      "text/plain": [
       "   U  P(U)\n",
       "0 -2  0.43\n",
       "1  0  0.16\n",
       "2  2  0.41"
      ],
      "text/html": [
       "<div>\n",
       "<style scoped>\n",
       "    .dataframe tbody tr th:only-of-type {\n",
       "        vertical-align: middle;\n",
       "    }\n",
       "\n",
       "    .dataframe tbody tr th {\n",
       "        vertical-align: top;\n",
       "    }\n",
       "\n",
       "    .dataframe thead th {\n",
       "        text-align: right;\n",
       "    }\n",
       "</style>\n",
       "<table border=\"1\" class=\"dataframe\">\n",
       "  <thead>\n",
       "    <tr style=\"text-align: right;\">\n",
       "      <th></th>\n",
       "      <th>U</th>\n",
       "      <th>P(U)</th>\n",
       "    </tr>\n",
       "  </thead>\n",
       "  <tbody>\n",
       "    <tr>\n",
       "      <th>0</th>\n",
       "      <td>-2</td>\n",
       "      <td>0.43</td>\n",
       "    </tr>\n",
       "    <tr>\n",
       "      <th>1</th>\n",
       "      <td>0</td>\n",
       "      <td>0.16</td>\n",
       "    </tr>\n",
       "    <tr>\n",
       "      <th>2</th>\n",
       "      <td>2</td>\n",
       "      <td>0.41</td>\n",
       "    </tr>\n",
       "  </tbody>\n",
       "</table>\n",
       "</div>"
      ]
     },
     "metadata": {},
     "output_type": "display_data"
    },
    {
     "data": {
      "text/plain": [
       "<Figure size 400x200 with 1 Axes>"
      ],
      "image/png": "[encoded data removed]"
     },
     "metadata": {},
     "output_type": "display_data"
    }
   ],
   "execution_count": 21
  },
  {
   "metadata": {},
   "cell_type": "markdown",
   "source": [
    "## 6. Характеристики X и Y\n",
    "\n",
    "Общие формулы:\n",
    "\n",
    "- Математическое ожидание:\n",
    "$$\n",
    "\\mathbb{E}[X] = \\sum_i x_i P_X(x_i)\n",
    "$$\n",
    "\n",
    "- Дисперсия:\n",
    "$$\n",
    "\\mathrm{Var}(X) = \\sum_i (x_i - \\mathbb{E}[X])^2 P_X(x_i)\n",
    "$$\n",
    "\n",
    "- Среднее квадратическое отклонение:\n",
    "$$\n",
    "\\sigma_X = \\sqrt{\\mathrm{Var}(X)}\n",
    "$$\n",
    "\n",
    "- Асимметрия:\n",
    "$$\n",
    "\\gamma_1 = \\frac{\\sum_i (x_i - \\mathbb{E}[X])^3 P_X(x_i)}{\\sigma_X^3}\n",
    "$$\n",
    "\n",
    "- Эксцесс:\n",
    "$$\n",
    "\\gamma_2 = \\frac{\\sum_i (x_i - \\mathbb{E}[X])^4 P_X(x_i)}{\\sigma_X^4} - 3\n",
    "$$\n",
    "\n",
    "- Мода: значение с наибольшей вероятностью\n",
    "- Медиана: 50-й процентиль распределения\n"
   ],
   "id": "d1c3609e5fdd61d9"
  },
  {
   "metadata": {
    "ExecuteTime": {
     "end_time": "2025-10-23T18:23:41.780911Z",
     "start_time": "2025-10-23T18:23:41.772324Z"
    }
   },
   "cell_type": "code",
   "source": [
    "def stats(values, probs):\n",
    "    values = np.array(values)\n",
    "    probs = np.array(probs)\n",
    "    mean = np.sum(values * probs)\n",
    "    var = np.sum((values - mean) ** 2 * probs)\n",
    "    std = np.sqrt(var)\n",
    "\n",
    "    mode = values[np.argmax(probs)]\n",
    "\n",
    "    sorted_indices = np.argsort(values)\n",
    "    sorted_values = values[sorted_indices]\n",
    "    sorted_probs = probs[sorted_indices]\n",
    "    cum_probs = np.cumsum(sorted_probs)\n",
    "    median = sorted_values[np.searchsorted(cum_probs, 0.5)]\n",
    "\n",
    "    skewness = np.sum((values - mean) ** 3 * probs) / std ** 3\n",
    "    kurtosis = np.sum((values - mean) ** 4 * probs) / std ** 4 - 3\n",
    "\n",
    "    return {\n",
    "        \"Мат ожидание\": mean,\n",
    "        \"Дисперсия\": var,\n",
    "        \"Среднее квадратическое отклонение\": std,\n",
    "        \"Мода\": mode,\n",
    "        \"Медиана\": median,\n",
    "        \"Асимметрия\": skewness,\n",
    "        \"Эксцесс\": kurtosis,\n",
    "    }\n",
    "\n",
    "stats_X = stats(X_values, P_X)\n",
    "stats_Y = stats(Y_values, P_Y)\n",
    "\n",
    "print(\"Характеристики X:\", stats_X)\n",
    "print(\"Характеристики Y:\", stats_Y)\n"
   ],
   "id": "73359b56ec49972f",
   "outputs": [
    {
     "name": "stdout",
     "output_type": "stream",
     "text": [
      "Характеристики X: {'Мат ожидание': np.float64(5.93), 'Дисперсия': np.float64(102.06510000000003), 'Среднее квадратическое отклонение': np.float64(10.102727354531549), 'Мода': np.int64(17), 'Медиана': np.int64(13), 'Асимметрия': np.float64(-0.029381177257836115), 'Эксцесс': np.float64(-1.9302714888571235)}\n",
      "Характеристики Y: {'Мат ожидание': np.float64(1.9000000000000015), 'Дисперсия': np.float64(35.050000000000004), 'Среднее квадратическое отклонение': np.float64(5.920304046246274), 'Мода': np.int64(9), 'Медиана': np.int64(0), 'Асимметрия': np.float64(0.10166420838346758), 'Эксцесс': np.float64(-1.6663801660965285)}\n"
     ]
    }
   ],
   "execution_count": 24
  },
  {
   "metadata": {},
   "cell_type": "markdown",
   "source": [
    "## 7. Ковариация и коэффициент корреляции\n",
    "\n",
    "Общие формулы:\n",
    "\n",
    "$$\n",
    "\\mathrm{Cov}(X,Y) = \\sum_{i,j} (x_i - \\mathbb{E}[X])(y_j - \\mathbb{E}[Y]) P(X=x_i,Y=y_j)\n",
    "$$\n",
    "\n",
    "$$\n",
    "\\rho_{XY} = \\frac{\\mathrm{Cov}(X,Y)}{\\sigma_X \\sigma_Y}\n",
    "$$\n"
   ],
   "id": "1ccd2c5bad62f8a5"
  },
  {
   "metadata": {
    "ExecuteTime": {
     "end_time": "2025-10-23T18:25:50.057299Z",
     "start_time": "2025-10-23T18:25:50.052961Z"
    }
   },
   "cell_type": "code",
   "source": [
    "mean_X, mean_Y = stats_X[\"Мат ожидание\"], stats_Y[\"Мат ожидание\"]\n",
    "cov = np.sum((X_values[:, None] - mean_X) * (Y_values[None, :] - mean_Y) * prob_table)\n",
    "corr = cov / (stats_X[\"Среднее квадратическое отклонение\"] * stats_Y[\"Среднее квадратическое отклонение\"])\n",
    "\n",
    "print(\"Ковариация X,Y:\", cov)\n",
    "print(\"Коэффициент корреляции X,Y:\", corr)"
   ],
   "id": "8dc723f48c321b8f",
   "outputs": [
    {
     "name": "stdout",
     "output_type": "stream",
     "text": [
      "Ковариация X,Y: 12.762999999999993\n",
      "Коэффициент корреляции X,Y: 0.21338806505918903\n"
     ]
    }
   ],
   "execution_count": 29
  },
  {
   "metadata": {},
   "cell_type": "markdown",
   "source": "Можем сразу скать, что величины зависимы, так как коэффециэнт корреляции не равен 0. Но проведем проверку по",
   "id": "ff392b95e0eb834a"
  },
  {
   "metadata": {},
   "cell_type": "markdown",
   "source": [
    "## 8. Проверка независимости\n",
    "\n",
    "Случайные величины X и Y независимы, если для всех $i,j$:\n",
    "\n",
    "$$\n",
    "P(X=x_i,Y=y_j) = P_X(x_i) \\cdot P_Y(y_j)\n",
    "$$\n"
   ],
   "id": "7bbd47eb17d2f29a"
  },
  {
   "metadata": {
    "ExecuteTime": {
     "end_time": "2025-10-23T18:25:50.883012Z",
     "start_time": "2025-10-23T18:25:50.880397Z"
    }
   },
   "cell_type": "code",
   "source": [
    "independent = np.allclose(prob_table, P_X[:, None] * P_Y[None, :])\n",
    "print(\"X и Y независимы?\", independent)"
   ],
   "id": "acdafbbcb14e6a0c",
   "outputs": [
    {
     "name": "stdout",
     "output_type": "stream",
     "text": [
      "X и Y независимы? False\n"
     ]
    }
   ],
   "execution_count": 30
  },
  {
   "metadata": {},
   "cell_type": "code",
   "outputs": [],
   "execution_count": null,
   "source": "",
   "id": "71f023ed2bf8cefc"
  }
 ],
 "metadata": {
  "kernelspec": {
   "display_name": "Python 3",
   "language": "python",
   "name": "python3"
  },
  "language_info": {
   "codemirror_mode": {
    "name": "ipython",
    "version": 2
   },
   "file_extension": ".py",
   "mimetype": "text/x-python",
   "name": "python",
   "nbconvert_exporter": "python",
   "pygments_lexer": "ipython2",
   "version": "2.7.6"
  }
 },
 "nbformat": 4,
 "nbformat_minor": 5
}
